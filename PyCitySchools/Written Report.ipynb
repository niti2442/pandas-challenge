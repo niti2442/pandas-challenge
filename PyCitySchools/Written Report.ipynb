{
 "cells": [
  {
   "cell_type": "code",
   "execution_count": null,
   "id": "dc2d3080",
   "metadata": {},
   "outputs": [],
   "source": [
    "The analysis for this data focused on school and student data. 
    The reading and math scores of students were analyzed along with the school they were from."
   ]
  },
  {
   "cell_type": "code",
   "execution_count": null,
   "id": "fd1f73f2",
   "metadata": {},
   "outputs": [],
   "source": [
    "The school's size and budget were are looked at. 
    Some schools had similar statistics which made the data fall into the same range and have average results."
   ]
  },
  {
   "cell_type": "code",
   "execution_count": null,
   "id": "75089fc3",
   "metadata": {},
   "outputs": [],
   "source": [
    "The overpassing grades for math and reading fall into the same range of 60-90% for all the schools."
   ]
  },
  {
   "cell_type": "code",
   "execution_count": null,
   "id": "06c95322",
   "metadata": {},
   "outputs": [],
   "source": [
    "The math and reading scores of the schools fall under the same range of 70-80%. 
    There is not much of a difference between the schools."
   ]
  },
  {
   "cell_type": "code",
   "execution_count": null,
   "id": "6fd2ab28",
   "metadata": {},
   "outputs": [],
   "source": [
    "The top performing schools have a greater budget per student compared to the low performing schools."
   ]
  },
  {
   "cell_type": "code",
   "execution_count": null,
   "id": "59aeb7d7",
   "metadata": {},
   "outputs": [],
   "source": [
    "In conclusion, there is not much of a difference between reading and math score of the student because they fall into the same range. 
    The lowest perfoming schools have greater %passing math and %passing reading compared to the highest perfoming schools despite having less students."
   ]
  },
  {
   "cell_type": "code",
   "execution_count": null,
   "id": "5b549ccb",
   "metadata": {},
   "outputs": [],
   "source": [
    "There is correlation between the budget and the amount of students."
   ]
  }
 ],
 "metadata": {
  "kernelspec": {
   "display_name": "Python 3 (ipykernel)",
   "language": "python",
   "name": "python3"
  },
  "language_info": {
   "codemirror_mode": {
    "name": "ipython",
    "version": 3
   },
   "file_extension": ".py",
   "mimetype": "text/x-python",
   "name": "python",
   "nbconvert_exporter": "python",
   "pygments_lexer": "ipython3",
   "version": "3.9.13"
  }
 },
 "nbformat": 4,
 "nbformat_minor": 5
}
